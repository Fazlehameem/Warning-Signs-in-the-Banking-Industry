{
 "cells": [
  {
   "cell_type": "code",
   "execution_count": 1,
   "metadata": {},
   "outputs": [],
   "source": [
    "# CREATE PANEL DASHBOARD: (Fazle)\n",
    "\n",
    "# Define Panel Visualization Functions\n",
    "def Real_Estate_Concentration():\n",
    "    RE_Concentration = alt.hconcat(pre_failed, post_failed, active, Banks)\n",
    "    return RE_Concentration\n",
    "def Commercial_Real_Estate_NOO_Concentration():\n",
    "    Commercial_RE_NOO_Concentration = av_re_comm_noo_failed_banks_2008_2010_df.hvplot.bar(x='quarter', rot=90, width=1200, height=700, title='Average Non-Owner Occupied (NOO) Real Estate Concentrations Across All 30 Banks', label='Failed Banks 2008-2010', ylabel='Percentage of Tier 1 Capital Plus Allowance').opts(color='blue') * av_re_comm_noo_failed_banks_post_2010_df.hvplot.bar(rot=90, width=1200, height=700, label= 'Failed Banks Post 2010').opts(color='orange') * av_re_comm_noo_active_banks_df.hvplot.bar(rot=90, width=1200, height=700, label='Active Banks').opts(color='green')\n",
    "    return Commercial_RE_NOO_Concentration\n",
    "def Family_Residential_Concentration():\n",
    "    Family_Residential_Concentration = alt.hconcat(pre_failed_res, post_failed_res, active_res)\n",
    "    return Family_Residential_Concentration\n",
    "def Individual_Loan_Concentration():\n",
    "    Individual_Loan_Concentration = alt.hconcat(pre_failed_ind, post_failed_ind, active_ind)\n",
    "    return Individual_Loan_Concentration\n",
    "def Individual_Loan_Concentration_Heat():\n",
    "    Individual_Loan_Concentration_Heat = alt.hconcat(pre_failed_ind_heat, post_failed_ind_heat, active_ind_heat)\n",
    "    return Individual_Loan_Concentration_Heat\n",
    "def Construction_and_Development_Concentration():\n",
    "    Construction_and_Development_Concentration =  joined_banks1.hvplot.heatmap(x='quarter', y='bank_name', C='const_and_dev', title='Construction & Development Exposure', reduce_function=np.mean, colorbar=True, width=1000, height=500, xlabel='Year', ylabel='Bank Name')\n",
    "    return Construction_and_Development_Concentration\n",
    "def Average_Loan_Concentration():\n",
    "    Average_Loan_Concentration =  failed_banks_2008_2010_df.hvplot.kde(width=4000, height=700, title='Average Loan Concentrations across All Banks') * failed_banks_post_2010_df.hvplot.kde() * active_banks_df.hvplot.kde()\n",
    "    return Average_Loan_Concentration"
   ]
  },
  {
   "cell_type": "code",
   "execution_count": 1,
   "metadata": {},
   "outputs": [
    {
     "ename": "NameError",
     "evalue": "name 'pn' is not defined",
     "output_type": "error",
     "traceback": [
      "\u001b[0;31m---------------------------------------------------------------------------\u001b[0m",
      "\u001b[0;31mNameError\u001b[0m                                 Traceback (most recent call last)",
      "\u001b[0;32m<ipython-input-1-21e8ffa35768>\u001b[0m in \u001b[0;36m<module>\u001b[0;34m\u001b[0m\n\u001b[1;32m     26\u001b[0m \u001b[0;31m# Panel Dashboard\u001b[0m\u001b[0;34m\u001b[0m\u001b[0;34m\u001b[0m\u001b[0;34m\u001b[0m\u001b[0m\n\u001b[1;32m     27\u001b[0m \u001b[0;31m# Create panels to structure the layout of the dashboard\u001b[0m\u001b[0;34m\u001b[0m\u001b[0;34m\u001b[0m\u001b[0;34m\u001b[0m\u001b[0m\n\u001b[0;32m---> 28\u001b[0;31m Real_Estate_Column = pn.Column(\n\u001b[0m\u001b[1;32m     29\u001b[0m \"## RE and Commercial RE NOO Plots\", Real_Estate_Concentration(), Commercial_Real_Estate_NOO_Concentration(),  Family_Residential_Concentration())\n\u001b[1;32m     30\u001b[0m Other_Loan_Column = pn.Column(\n",
      "\u001b[0;31mNameError\u001b[0m: name 'pn' is not defined"
     ]
    }
   ],
   "source": [
    "# Panel Dashboard\n",
    "# Create panels to structure the layout of the dashboard\n",
    "Real_Estate_Column = pn.Column(\n",
    "\"## RE and Commercial RE NOO Plots\", Real_Estate_Concentration(), Commercial_Real_Estate_NOO_Concentration(),  Family_Residential_Concentration())\n",
    "Other_Loan_Column = pn.Column(\n",
    "\"## Other Loan Concentration Plot\", Individual_Loan_Concentration(), Individual_Loan_Concentration_Heat(), Construction_and_Development_Concentration(), Average_Loan_Concentration())\n",
    "# Create tabs\n",
    "Loan_Concentration_Dashboard = pn.Tabs(\n",
    "    (\"Real Estate\", Real_Estate_Column), (\"Correlations\", Other_Loan_Column)\n",
    ")\n",
    "\n",
    "Loan_Concentration_Dashboard.servable().show()"
   ]
  },
  {
   "cell_type": "code",
   "execution_count": null,
   "metadata": {},
   "outputs": [],
   "source": []
  }
 ],
 "metadata": {
  "kernelspec": {
   "display_name": "sqlenv",
   "language": "python",
   "name": "sqlenv"
  },
  "language_info": {
   "codemirror_mode": {
    "name": "ipython",
    "version": 3
   },
   "file_extension": ".py",
   "mimetype": "text/x-python",
   "name": "python",
   "nbconvert_exporter": "python",
   "pygments_lexer": "ipython3",
   "version": "3.8.5"
  }
 },
 "nbformat": 4,
 "nbformat_minor": 4
}
